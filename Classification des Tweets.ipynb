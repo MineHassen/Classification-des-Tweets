{
 "cells": [
  {
   "cell_type": "markdown",
   "id": "cabc3b92-9a15-42df-bf61-10b43616c435",
   "metadata": {},
   "source": [
    "# Classification des Tweets"
   ]
  },
  {
   "cell_type": "markdown",
   "id": "2c2f14cf-0a28-47d6-a42d-a0c08523ee47",
   "metadata": {},
   "source": [
    "## 1.Prétraitement des tweets"
   ]
  },
  {
   "cell_type": "code",
   "execution_count": 9,
   "id": "9acaeaf8-029b-4509-9c30-35c5eca2daea",
   "metadata": {},
   "outputs": [],
   "source": [
    "import pandas as pd\n",
    "import re\n",
    "import string\n",
    "# Charger le fichier CSV\n",
    "df = pd.read_csv(\"sentiment140.csv\", encoding=\"latin1\", header=None)\n",
    "df.columns = [\"target\", \"id\", \"date\", \"flag\", \"user\", \"text\"]\n",
    "def clean_tweet(tweet):\n",
    "    # 1. Supprimer les mentions (@username)\n",
    "    tweet = re.sub(r'@\\w+', '', tweet)\n",
    "    \n",
    "    # 2. Supprimer les hashtags (#)\n",
    "    tweet = re.sub(r'#', '', tweet)\n",
    "    \n",
    "    # 3. Supprimer les URLs\n",
    "    tweet = re.sub(r'http\\S+', '', tweet)\n",
    "    \n",
    "    # 4. Supprimer les emojis (en utilisant un pattern pour détecter les emojis)\n",
    "    tweet = re.sub(r'[^\\x00-\\x7F]+', '', tweet)  # Supprime les caractères non-ASCII (emojis)\n",
    "    \n",
    "    # 5. Supprimer la ponctuation\n",
    "    tweet = tweet.translate(str.maketrans('', '', string.punctuation))\n",
    "    \n",
    "    # 6. Convertir tout le texte en minuscules\n",
    "    tweet = tweet.lower()\n",
    "    return tweet"
   ]
  },
  {
   "cell_type": "code",
   "execution_count": 10,
   "id": "84eab0f0-007b-467f-aea1-d7e10ab99417",
   "metadata": {},
   "outputs": [
    {
     "name": "stdout",
     "output_type": "stream",
     "text": [
      "\n",
      "Dataset après nettoyage:\n",
      "                                                text  \\\n",
      "0  @switchfoot http://twitpic.com/2y1zl - Awww, t...   \n",
      "1  is upset that he can't update his Facebook by ...   \n",
      "2  @Kenichan I dived many times for the ball. Man...   \n",
      "3    my whole body feels itchy and like its on fire    \n",
      "4  @nationwideclass no, it's not behaving at all....   \n",
      "\n",
      "                                        cleaned_text  \n",
      "0     awww thats a bummer  you shoulda got david ...  \n",
      "1  is upset that he cant update his facebook by t...  \n",
      "2   i dived many times for the ball managed to sa...  \n",
      "3    my whole body feels itchy and like its on fire   \n",
      "4   no its not behaving at all im mad why am i he...  \n"
     ]
    }
   ],
   "source": [
    "# Appliquer le nettoyage sur le premier tweet de votre dataset\n",
    "sample_tweet = df[\"text\"].iloc[0]  # Prenons le premier tweet pour l'exemple\n",
    "cleaned_tweet = clean_tweet(sample_tweet)\n",
    "\n",
    "# Si vous voulez nettoyer tout le dataset, appliquez-le à la colonne 'text'\n",
    "df['cleaned_text'] = df['text'].apply(clean_tweet)\n",
    "\n",
    "# Afficher les 5 premières lignes du dataset après nettoyage\n",
    "print(\"\\nDataset après nettoyage:\")\n",
    "print(df[['text', 'cleaned_text']].head())"
   ]
  },
  {
   "cell_type": "code",
   "execution_count": 11,
   "id": "786017a7-2751-4ba7-a355-b7246f4cd745",
   "metadata": {},
   "outputs": [
    {
     "name": "stderr",
     "output_type": "stream",
     "text": [
      "C:\\Users\\Client\\AppData\\Local\\Temp\\ipykernel_14740\\4032960744.py:2: FutureWarning: Styler.applymap has been deprecated. Use Styler.map instead.\n",
      "  df.head(10).style.applymap(lambda x: 'background-color: #f2f2f2' if isinstance(x, str) else '')\n"
     ]
    },
    {
     "data": {
      "text/html": [
       "<style type=\"text/css\">\n",
       "#T_1aecf_row0_col2, #T_1aecf_row0_col3, #T_1aecf_row0_col4, #T_1aecf_row0_col5, #T_1aecf_row0_col6, #T_1aecf_row1_col2, #T_1aecf_row1_col3, #T_1aecf_row1_col4, #T_1aecf_row1_col5, #T_1aecf_row1_col6, #T_1aecf_row2_col2, #T_1aecf_row2_col3, #T_1aecf_row2_col4, #T_1aecf_row2_col5, #T_1aecf_row2_col6, #T_1aecf_row3_col2, #T_1aecf_row3_col3, #T_1aecf_row3_col4, #T_1aecf_row3_col5, #T_1aecf_row3_col6, #T_1aecf_row4_col2, #T_1aecf_row4_col3, #T_1aecf_row4_col4, #T_1aecf_row4_col5, #T_1aecf_row4_col6, #T_1aecf_row5_col2, #T_1aecf_row5_col3, #T_1aecf_row5_col4, #T_1aecf_row5_col5, #T_1aecf_row5_col6, #T_1aecf_row6_col2, #T_1aecf_row6_col3, #T_1aecf_row6_col4, #T_1aecf_row6_col5, #T_1aecf_row6_col6, #T_1aecf_row7_col2, #T_1aecf_row7_col3, #T_1aecf_row7_col4, #T_1aecf_row7_col5, #T_1aecf_row7_col6, #T_1aecf_row8_col2, #T_1aecf_row8_col3, #T_1aecf_row8_col4, #T_1aecf_row8_col5, #T_1aecf_row8_col6, #T_1aecf_row9_col2, #T_1aecf_row9_col3, #T_1aecf_row9_col4, #T_1aecf_row9_col5, #T_1aecf_row9_col6 {\n",
       "  background-color: #f2f2f2;\n",
       "}\n",
       "</style>\n",
       "<table id=\"T_1aecf\">\n",
       "  <thead>\n",
       "    <tr>\n",
       "      <th class=\"blank level0\" >&nbsp;</th>\n",
       "      <th id=\"T_1aecf_level0_col0\" class=\"col_heading level0 col0\" >target</th>\n",
       "      <th id=\"T_1aecf_level0_col1\" class=\"col_heading level0 col1\" >id</th>\n",
       "      <th id=\"T_1aecf_level0_col2\" class=\"col_heading level0 col2\" >date</th>\n",
       "      <th id=\"T_1aecf_level0_col3\" class=\"col_heading level0 col3\" >flag</th>\n",
       "      <th id=\"T_1aecf_level0_col4\" class=\"col_heading level0 col4\" >user</th>\n",
       "      <th id=\"T_1aecf_level0_col5\" class=\"col_heading level0 col5\" >text</th>\n",
       "      <th id=\"T_1aecf_level0_col6\" class=\"col_heading level0 col6\" >cleaned_text</th>\n",
       "    </tr>\n",
       "  </thead>\n",
       "  <tbody>\n",
       "    <tr>\n",
       "      <th id=\"T_1aecf_level0_row0\" class=\"row_heading level0 row0\" >0</th>\n",
       "      <td id=\"T_1aecf_row0_col0\" class=\"data row0 col0\" >0</td>\n",
       "      <td id=\"T_1aecf_row0_col1\" class=\"data row0 col1\" >1467810369</td>\n",
       "      <td id=\"T_1aecf_row0_col2\" class=\"data row0 col2\" >Mon Apr 06 22:19:45 PDT 2009</td>\n",
       "      <td id=\"T_1aecf_row0_col3\" class=\"data row0 col3\" >NO_QUERY</td>\n",
       "      <td id=\"T_1aecf_row0_col4\" class=\"data row0 col4\" >_TheSpecialOne_</td>\n",
       "      <td id=\"T_1aecf_row0_col5\" class=\"data row0 col5\" >@switchfoot http://twitpic.com/2y1zl - Awww, that's a bummer.  You shoulda got David Carr of Third Day to do it. ;D</td>\n",
       "      <td id=\"T_1aecf_row0_col6\" class=\"data row0 col6\" >   awww thats a bummer  you shoulda got david carr of third day to do it d</td>\n",
       "    </tr>\n",
       "    <tr>\n",
       "      <th id=\"T_1aecf_level0_row1\" class=\"row_heading level0 row1\" >1</th>\n",
       "      <td id=\"T_1aecf_row1_col0\" class=\"data row1 col0\" >0</td>\n",
       "      <td id=\"T_1aecf_row1_col1\" class=\"data row1 col1\" >1467810672</td>\n",
       "      <td id=\"T_1aecf_row1_col2\" class=\"data row1 col2\" >Mon Apr 06 22:19:49 PDT 2009</td>\n",
       "      <td id=\"T_1aecf_row1_col3\" class=\"data row1 col3\" >NO_QUERY</td>\n",
       "      <td id=\"T_1aecf_row1_col4\" class=\"data row1 col4\" >scotthamilton</td>\n",
       "      <td id=\"T_1aecf_row1_col5\" class=\"data row1 col5\" >is upset that he can't update his Facebook by texting it... and might cry as a result  School today also. Blah!</td>\n",
       "      <td id=\"T_1aecf_row1_col6\" class=\"data row1 col6\" >is upset that he cant update his facebook by texting it and might cry as a result  school today also blah</td>\n",
       "    </tr>\n",
       "    <tr>\n",
       "      <th id=\"T_1aecf_level0_row2\" class=\"row_heading level0 row2\" >2</th>\n",
       "      <td id=\"T_1aecf_row2_col0\" class=\"data row2 col0\" >0</td>\n",
       "      <td id=\"T_1aecf_row2_col1\" class=\"data row2 col1\" >1467810917</td>\n",
       "      <td id=\"T_1aecf_row2_col2\" class=\"data row2 col2\" >Mon Apr 06 22:19:53 PDT 2009</td>\n",
       "      <td id=\"T_1aecf_row2_col3\" class=\"data row2 col3\" >NO_QUERY</td>\n",
       "      <td id=\"T_1aecf_row2_col4\" class=\"data row2 col4\" >mattycus</td>\n",
       "      <td id=\"T_1aecf_row2_col5\" class=\"data row2 col5\" >@Kenichan I dived many times for the ball. Managed to save 50%  The rest go out of bounds</td>\n",
       "      <td id=\"T_1aecf_row2_col6\" class=\"data row2 col6\" > i dived many times for the ball managed to save 50  the rest go out of bounds</td>\n",
       "    </tr>\n",
       "    <tr>\n",
       "      <th id=\"T_1aecf_level0_row3\" class=\"row_heading level0 row3\" >3</th>\n",
       "      <td id=\"T_1aecf_row3_col0\" class=\"data row3 col0\" >0</td>\n",
       "      <td id=\"T_1aecf_row3_col1\" class=\"data row3 col1\" >1467811184</td>\n",
       "      <td id=\"T_1aecf_row3_col2\" class=\"data row3 col2\" >Mon Apr 06 22:19:57 PDT 2009</td>\n",
       "      <td id=\"T_1aecf_row3_col3\" class=\"data row3 col3\" >NO_QUERY</td>\n",
       "      <td id=\"T_1aecf_row3_col4\" class=\"data row3 col4\" >ElleCTF</td>\n",
       "      <td id=\"T_1aecf_row3_col5\" class=\"data row3 col5\" >my whole body feels itchy and like its on fire </td>\n",
       "      <td id=\"T_1aecf_row3_col6\" class=\"data row3 col6\" >my whole body feels itchy and like its on fire </td>\n",
       "    </tr>\n",
       "    <tr>\n",
       "      <th id=\"T_1aecf_level0_row4\" class=\"row_heading level0 row4\" >4</th>\n",
       "      <td id=\"T_1aecf_row4_col0\" class=\"data row4 col0\" >0</td>\n",
       "      <td id=\"T_1aecf_row4_col1\" class=\"data row4 col1\" >1467811193</td>\n",
       "      <td id=\"T_1aecf_row4_col2\" class=\"data row4 col2\" >Mon Apr 06 22:19:57 PDT 2009</td>\n",
       "      <td id=\"T_1aecf_row4_col3\" class=\"data row4 col3\" >NO_QUERY</td>\n",
       "      <td id=\"T_1aecf_row4_col4\" class=\"data row4 col4\" >Karoli</td>\n",
       "      <td id=\"T_1aecf_row4_col5\" class=\"data row4 col5\" >@nationwideclass no, it's not behaving at all. i'm mad. why am i here? because I can't see you all over there. </td>\n",
       "      <td id=\"T_1aecf_row4_col6\" class=\"data row4 col6\" > no its not behaving at all im mad why am i here because i cant see you all over there </td>\n",
       "    </tr>\n",
       "    <tr>\n",
       "      <th id=\"T_1aecf_level0_row5\" class=\"row_heading level0 row5\" >5</th>\n",
       "      <td id=\"T_1aecf_row5_col0\" class=\"data row5 col0\" >0</td>\n",
       "      <td id=\"T_1aecf_row5_col1\" class=\"data row5 col1\" >1467811372</td>\n",
       "      <td id=\"T_1aecf_row5_col2\" class=\"data row5 col2\" >Mon Apr 06 22:20:00 PDT 2009</td>\n",
       "      <td id=\"T_1aecf_row5_col3\" class=\"data row5 col3\" >NO_QUERY</td>\n",
       "      <td id=\"T_1aecf_row5_col4\" class=\"data row5 col4\" >joy_wolf</td>\n",
       "      <td id=\"T_1aecf_row5_col5\" class=\"data row5 col5\" >@Kwesidei not the whole crew </td>\n",
       "      <td id=\"T_1aecf_row5_col6\" class=\"data row5 col6\" > not the whole crew </td>\n",
       "    </tr>\n",
       "    <tr>\n",
       "      <th id=\"T_1aecf_level0_row6\" class=\"row_heading level0 row6\" >6</th>\n",
       "      <td id=\"T_1aecf_row6_col0\" class=\"data row6 col0\" >0</td>\n",
       "      <td id=\"T_1aecf_row6_col1\" class=\"data row6 col1\" >1467811592</td>\n",
       "      <td id=\"T_1aecf_row6_col2\" class=\"data row6 col2\" >Mon Apr 06 22:20:03 PDT 2009</td>\n",
       "      <td id=\"T_1aecf_row6_col3\" class=\"data row6 col3\" >NO_QUERY</td>\n",
       "      <td id=\"T_1aecf_row6_col4\" class=\"data row6 col4\" >mybirch</td>\n",
       "      <td id=\"T_1aecf_row6_col5\" class=\"data row6 col5\" >Need a hug </td>\n",
       "      <td id=\"T_1aecf_row6_col6\" class=\"data row6 col6\" >need a hug </td>\n",
       "    </tr>\n",
       "    <tr>\n",
       "      <th id=\"T_1aecf_level0_row7\" class=\"row_heading level0 row7\" >7</th>\n",
       "      <td id=\"T_1aecf_row7_col0\" class=\"data row7 col0\" >0</td>\n",
       "      <td id=\"T_1aecf_row7_col1\" class=\"data row7 col1\" >1467811594</td>\n",
       "      <td id=\"T_1aecf_row7_col2\" class=\"data row7 col2\" >Mon Apr 06 22:20:03 PDT 2009</td>\n",
       "      <td id=\"T_1aecf_row7_col3\" class=\"data row7 col3\" >NO_QUERY</td>\n",
       "      <td id=\"T_1aecf_row7_col4\" class=\"data row7 col4\" >coZZ</td>\n",
       "      <td id=\"T_1aecf_row7_col5\" class=\"data row7 col5\" >@LOLTrish hey  long time no see! Yes.. Rains a bit ,only a bit  LOL , I'm fine thanks , how's you ?</td>\n",
       "      <td id=\"T_1aecf_row7_col6\" class=\"data row7 col6\" > hey  long time no see yes rains a bit only a bit  lol  im fine thanks  hows you </td>\n",
       "    </tr>\n",
       "    <tr>\n",
       "      <th id=\"T_1aecf_level0_row8\" class=\"row_heading level0 row8\" >8</th>\n",
       "      <td id=\"T_1aecf_row8_col0\" class=\"data row8 col0\" >0</td>\n",
       "      <td id=\"T_1aecf_row8_col1\" class=\"data row8 col1\" >1467811795</td>\n",
       "      <td id=\"T_1aecf_row8_col2\" class=\"data row8 col2\" >Mon Apr 06 22:20:05 PDT 2009</td>\n",
       "      <td id=\"T_1aecf_row8_col3\" class=\"data row8 col3\" >NO_QUERY</td>\n",
       "      <td id=\"T_1aecf_row8_col4\" class=\"data row8 col4\" >2Hood4Hollywood</td>\n",
       "      <td id=\"T_1aecf_row8_col5\" class=\"data row8 col5\" >@Tatiana_K nope they didn't have it </td>\n",
       "      <td id=\"T_1aecf_row8_col6\" class=\"data row8 col6\" > nope they didnt have it </td>\n",
       "    </tr>\n",
       "    <tr>\n",
       "      <th id=\"T_1aecf_level0_row9\" class=\"row_heading level0 row9\" >9</th>\n",
       "      <td id=\"T_1aecf_row9_col0\" class=\"data row9 col0\" >0</td>\n",
       "      <td id=\"T_1aecf_row9_col1\" class=\"data row9 col1\" >1467812025</td>\n",
       "      <td id=\"T_1aecf_row9_col2\" class=\"data row9 col2\" >Mon Apr 06 22:20:09 PDT 2009</td>\n",
       "      <td id=\"T_1aecf_row9_col3\" class=\"data row9 col3\" >NO_QUERY</td>\n",
       "      <td id=\"T_1aecf_row9_col4\" class=\"data row9 col4\" >mimismo</td>\n",
       "      <td id=\"T_1aecf_row9_col5\" class=\"data row9 col5\" >@twittera que me muera ? </td>\n",
       "      <td id=\"T_1aecf_row9_col6\" class=\"data row9 col6\" > que me muera  </td>\n",
       "    </tr>\n",
       "  </tbody>\n",
       "</table>\n"
      ],
      "text/plain": [
       "<pandas.io.formats.style.Styler at 0x2a40df42660>"
      ]
     },
     "execution_count": 11,
     "metadata": {},
     "output_type": "execute_result"
    }
   ],
   "source": [
    "# Créer un tableau coloré pour les 10 premiers tweets\n",
    "df.head(10).style.applymap(lambda x: 'background-color: #f2f2f2' if isinstance(x, str) else '')\n"
   ]
  },
  {
   "cell_type": "markdown",
   "id": "60be8589-43fd-4761-8dda-c0769dba40f1",
   "metadata": {},
   "source": [
    "## 2.Analyse NLP avec NLTK"
   ]
  },
  {
   "cell_type": "markdown",
   "id": "f236cca9-eef7-4ea2-81aa-024270083007",
   "metadata": {},
   "source": [
    "importer les modules nécessaires"
   ]
  },
  {
   "cell_type": "code",
   "execution_count": 14,
   "id": "70731c34-1bf7-4261-a9f7-a46e3f8be6c0",
   "metadata": {},
   "outputs": [],
   "source": [
    "import nltk\n",
    "from nltk.tokenize import word_tokenize\n",
    "from nltk.corpus import stopwords\n",
    "from nltk.stem import PorterStemmer, WordNetLemmatizer\n",
    "#imports pour nlp\n"
   ]
  },
  {
   "cell_type": "markdown",
   "id": "6df23372-dc6b-41e5-a4c2-823c352b3db8",
   "metadata": {},
   "source": [
    "téléchargé les ressources nécessaires dans NLTK pour la tokenisation, les stopwords, et la lemmatisation :"
   ]
  },
  {
   "cell_type": "code",
   "execution_count": 16,
   "id": "dc5da090-42e4-433a-8f9f-b173ef84de80",
   "metadata": {},
   "outputs": [
    {
     "name": "stderr",
     "output_type": "stream",
     "text": [
      "[nltk_data] Downloading package punkt to\n",
      "[nltk_data]     C:\\Users\\Client\\AppData\\Roaming\\nltk_data...\n",
      "[nltk_data]   Package punkt is already up-to-date!\n",
      "[nltk_data] Downloading package stopwords to\n",
      "[nltk_data]     C:\\Users\\Client\\AppData\\Roaming\\nltk_data...\n",
      "[nltk_data]   Package stopwords is already up-to-date!\n",
      "[nltk_data] Downloading package wordnet to\n",
      "[nltk_data]     C:\\Users\\Client\\AppData\\Roaming\\nltk_data...\n",
      "[nltk_data]   Package wordnet is already up-to-date!\n"
     ]
    },
    {
     "data": {
      "text/plain": [
       "True"
      ]
     },
     "execution_count": 16,
     "metadata": {},
     "output_type": "execute_result"
    }
   ],
   "source": [
    "nltk.download('punkt')  # Pour la tokenisation\n",
    "nltk.download('stopwords')  # Pour les stopwords\n",
    "nltk.download('wordnet')  # Pour la lemmatisation\n"
   ]
  },
  {
   "cell_type": "markdown",
   "id": "ff0af96d-64fc-41db-83d1-cfe2b4738bbe",
   "metadata": {},
   "source": [
    "Tokenisation (Découper le texte en mots)"
   ]
  },
  {
   "cell_type": "markdown",
   "id": "2cdf0d65-25af-4d81-b2c0-1b103fe81984",
   "metadata": {},
   "source": [
    "La tokenisation consiste à découper le texte en mots individuels ou en tokens."
   ]
  },
  {
   "cell_type": "code",
   "execution_count": 19,
   "id": "fae6a912-3138-4a47-b9a0-59a70217e2e8",
   "metadata": {},
   "outputs": [],
   "source": [
    "# Initialiser les outils de nettoyage\n",
    "stop_words = set(stopwords.words('english'))  # Ou 'french' si vous travaillez avec des tweets en français\n",
    "stemmer = PorterStemmer()\n",
    "lemmatizer = WordNetLemmatizer()"
   ]
  },
  {
   "cell_type": "markdown",
   "id": "369e8480-f945-47f1-9e2b-331a4f7f5b6f",
   "metadata": {},
   "source": [
    "## 1.Tokenisation : La fonction word_tokenize() découpe le texte en mots (ou tokens)."
   ]
  },
  {
   "cell_type": "markdown",
   "id": "2166460d-47f0-4572-a891-08235edfaa6c",
   "metadata": {},
   "source": [
    "## 2.Suppression des stopwords : On filtre les mots courants comme \"the\", \"is\", \"and\" qui n'apportent pas d’information utile pour l’analyse."
   ]
  },
  {
   "cell_type": "markdown",
   "id": "fe9e6e68-e416-47e7-b407-e15a5249d4b8",
   "metadata": {},
   "source": [
    "## 3.Stemming : Chaque mot est réduit à sa racine (ex. \"running\" → \"run\").\n",
    "\n",
    "## 4.Lemmatisation : Réduction des mots à leur forme canonique (ex. \"better\" → \"good\")."
   ]
  },
  {
   "cell_type": "code",
   "execution_count": 23,
   "id": "82dbe9ad-6471-41b1-9e0d-211ed8400f3b",
   "metadata": {},
   "outputs": [
    {
     "name": "stderr",
     "output_type": "stream",
     "text": [
      "[nltk_data] Downloading package punkt to\n",
      "[nltk_data]     C:\\Users\\Client\\AppData\\Roaming\\nltk_data...\n",
      "[nltk_data]   Package punkt is already up-to-date!\n",
      "[nltk_data] Downloading package stopwords to\n",
      "[nltk_data]     C:\\Users\\Client\\AppData\\Roaming\\nltk_data...\n",
      "[nltk_data]   Package stopwords is already up-to-date!\n",
      "[nltk_data] Downloading package wordnet to\n",
      "[nltk_data]     C:\\Users\\Client\\AppData\\Roaming\\nltk_data...\n",
      "[nltk_data]   Package wordnet is already up-to-date!\n"
     ]
    },
    {
     "name": "stdout",
     "output_type": "stream",
     "text": [
      "                                                text  \\\n",
      "0  @switchfoot http://twitpic.com/2y1zl - Awww, t...   \n",
      "1  is upset that he can't update his Facebook by ...   \n",
      "2  @Kenichan I dived many times for the ball. Man...   \n",
      "3    my whole body feels itchy and like its on fire    \n",
      "4  @nationwideclass no, it's not behaving at all....   \n",
      "\n",
      "                                        cleaned_text  \\\n",
      "0     awww thats a bummer  you shoulda got david ...   \n",
      "1  is upset that he cant update his facebook by t...   \n",
      "2   i dived many times for the ball managed to sa...   \n",
      "3    my whole body feels itchy and like its on fire    \n",
      "4   no its not behaving at all im mad why am i he...   \n",
      "\n",
      "                                      processed_text  \n",
      "0  awww that bummer shoulda got david carr third day  \n",
      "1  upset cant updat facebook text might cri resul...  \n",
      "2    dive mani time ball manag save 50 rest go bound  \n",
      "3                    whole bodi feel itchi like fire  \n",
      "4                              behav im mad cant see  \n"
     ]
    }
   ],
   "source": [
    "import pandas as pd\n",
    "import nltk\n",
    "from nltk.tokenize import word_tokenize\n",
    "from nltk.corpus import stopwords\n",
    "from nltk.stem import PorterStemmer, WordNetLemmatizer\n",
    "import re\n",
    "import string\n",
    "\n",
    "# Télécharger les ressources NLTK nécessaires\n",
    "nltk.download('punkt')\n",
    "nltk.download('stopwords')\n",
    "nltk.download('wordnet')\n",
    "\n",
    "# Charger le dataset sentiment140 (après nettoyage initial)\n",
    "df = pd.read_csv(\"sentiment140.csv\", encoding=\"latin1\", header=None)\n",
    "df.columns = [\"target\", \"id\", \"date\", \"flag\", \"user\", \"text\"]\n",
    "\n",
    "# Nettoyage initial (supprimer les mentions, hashtags, URLs, emojis, ponctuation et convertir en minuscules)\n",
    "def clean_tweet(tweet):\n",
    "    # Supprimer les mentions @username\n",
    "    tweet = re.sub(r'@\\w+', '', tweet)\n",
    "    \n",
    "    # Supprimer les hashtags #\n",
    "    tweet = re.sub(r'#', '', tweet)\n",
    "    \n",
    "    # Supprimer les URLs\n",
    "    tweet = re.sub(r'http\\S+', '', tweet)\n",
    "    \n",
    "    # Supprimer les emojis (caractères non-ASCII)\n",
    "    tweet = re.sub(r'[^\\x00-\\x7F]+', '', tweet)  # Supprime les caractères non-ASCII (emojis)\n",
    "    \n",
    "    # Supprimer la ponctuation\n",
    "    tweet = tweet.translate(str.maketrans('', '', string.punctuation))\n",
    "    \n",
    "    # Convertir tout le texte en minuscules\n",
    "    tweet = tweet.lower()\n",
    "    \n",
    "    return tweet\n",
    "\n",
    "# Appliquer le nettoyage initial à chaque tweet\n",
    "df['cleaned_text'] = df['text'].apply(clean_tweet)\n",
    "\n",
    "# Initialiser les outils de nettoyage NLP\n",
    "stop_words = set(stopwords.words('english'))  # Vous pouvez utiliser 'french' si les tweets sont en français\n",
    "stemmer = PorterStemmer()\n",
    "lemmatizer = WordNetLemmatizer()\n",
    "\n",
    "# Fonction de prétraitement NLP : tokenisation, suppression des stopwords, stemming et lemmatisation\n",
    "def preprocess_tweet(tweet):\n",
    "    # Tokenisation\n",
    "    tokens = word_tokenize(tweet)\n",
    "    \n",
    "    # Suppression des stopwords\n",
    "    filtered_tokens = [word for word in tokens if word.lower() not in stop_words]\n",
    "    \n",
    "    # Stemming\n",
    "    stemmed_tokens = [stemmer.stem(word) for word in filtered_tokens]\n",
    "    \n",
    "    # Lemmatisation\n",
    "    lemmatized_tokens = [lemmatizer.lemmatize(word) for word in stemmed_tokens]\n",
    "    \n",
    "    return \" \".join(lemmatized_tokens)  # Joindre les tokens traités en une seule chaîne de texte\n",
    "\n",
    "# Appliquer le prétraitement à chaque tweet nettoyé\n",
    "df['processed_text'] = df['cleaned_text'].apply(preprocess_tweet)\n",
    "\n",
    "# Afficher les 5 premiers tweets avant et après prétraitement\n",
    "print(df[['text', 'cleaned_text', 'processed_text']].head())\n"
   ]
  },
  {
   "cell_type": "markdown",
   "id": "d6f0f73d-daa7-482d-b1f6-d4b098b76f94",
   "metadata": {},
   "source": [
    "# 1. Displaying the Data in a Table(original tweet, cleaned tweet, and processed tweet)"
   ]
  },
  {
   "cell_type": "code",
   "execution_count": 25,
   "id": "570396ed-001a-4502-996f-f06070904ba1",
   "metadata": {},
   "outputs": [
    {
     "data": {
      "text/html": [
       "<table style='width:100%; border-collapse: collapse;'><tr><th style='text-align:left;'>Tweet Original</th><th style='text-align:left;'>Tweet Nettoyé</th><th style='text-align:left;'>Tweet Traitée</th></tr><tr><td style='background-color: #f2f2f2; padding: 8px;'>@switchfoot http://twitpic.com/2y1zl - Awww, that's a bummer.  You shoulda got David Carr of Third Day to do it. ;D</td><td style='background-color: #e6ffe6; padding: 8px;'>   awww thats a bummer  you shoulda got david carr of third day to do it d</td><td style='background-color: #f0e68c; padding: 8px;'>awww that bummer shoulda got david carr third day</td></tr><tr><td style='background-color: #f2f2f2; padding: 8px;'>is upset that he can't update his Facebook by texting it... and might cry as a result  School today also. Blah!</td><td style='background-color: #e6ffe6; padding: 8px;'>is upset that he cant update his facebook by texting it and might cry as a result  school today also blah</td><td style='background-color: #f0e68c; padding: 8px;'>upset cant updat facebook text might cri result school today also blah</td></tr><tr><td style='background-color: #f2f2f2; padding: 8px;'>@Kenichan I dived many times for the ball. Managed to save 50%  The rest go out of bounds</td><td style='background-color: #e6ffe6; padding: 8px;'> i dived many times for the ball managed to save 50  the rest go out of bounds</td><td style='background-color: #f0e68c; padding: 8px;'>dive mani time ball manag save 50 rest go bound</td></tr><tr><td style='background-color: #f2f2f2; padding: 8px;'>my whole body feels itchy and like its on fire </td><td style='background-color: #e6ffe6; padding: 8px;'>my whole body feels itchy and like its on fire </td><td style='background-color: #f0e68c; padding: 8px;'>whole bodi feel itchi like fire</td></tr><tr><td style='background-color: #f2f2f2; padding: 8px;'>@nationwideclass no, it's not behaving at all. i'm mad. why am i here? because I can't see you all over there. </td><td style='background-color: #e6ffe6; padding: 8px;'> no its not behaving at all im mad why am i here because i cant see you all over there </td><td style='background-color: #f0e68c; padding: 8px;'>behav im mad cant see</td></tr></table>"
      ],
      "text/plain": [
       "<IPython.core.display.HTML object>"
      ]
     },
     "metadata": {},
     "output_type": "display_data"
    }
   ],
   "source": [
    "import IPython.display as display\n",
    "from IPython.core.display import HTML\n",
    "\n",
    "def display_colored_tweets(df):\n",
    "    html = \"<table style='width:100%; border-collapse: collapse;'>\"\n",
    "    html += \"<tr><th style='text-align:left;'>Tweet Original</th><th style='text-align:left;'>Tweet Nettoyé</th><th style='text-align:left;'>Tweet Traitée</th></tr>\"\n",
    "    \n",
    "    for index, row in df.iterrows():\n",
    "        original_tweet = f\"<td style='background-color: #f2f2f2; padding: 8px;'>{row['text']}</td>\"\n",
    "        cleaned_tweet = f\"<td style='background-color: #e6ffe6; padding: 8px;'>{row['cleaned_text']}</td>\"\n",
    "        processed_tweet = f\"<td style='background-color: #f0e68c; padding: 8px;'>{row['processed_text']}</td>\"\n",
    "        html += f\"<tr>{original_tweet}{cleaned_tweet}{processed_tweet}</tr>\"\n",
    "    \n",
    "    html += \"</table>\"\n",
    "    display.display(HTML(html))\n",
    "\n",
    "# Display the first 5 rows of the DataFrame in a table\n",
    "display_colored_tweets(df.head())\n"
   ]
  },
  {
   "cell_type": "markdown",
   "id": "d75ed300-453d-43d8-9142-1fd182338f6e",
   "metadata": {},
   "source": [
    "### Stemming (PorterStemmer):\n",
    "\n",
    "The PorterStemmer algorithm used during the stemming process might reduce the word endings, and in some cases, this could result in the replacement of letters like \"y\" with \"i\". For example:\n",
    "\"happy\" → \"happi\"\n",
    "\"cry\" → \"cri\""
   ]
  },
  {
   "cell_type": "markdown",
   "id": "a9d166d1-26cf-4254-a17b-be67f3f1000f",
   "metadata": {},
   "source": [
    "# 2. Length Comparison of Original vs. Cleaned and Processed Tweets"
   ]
  },
  {
   "cell_type": "code",
   "execution_count": 28,
   "id": "fd40f433-7790-4dbd-a5b8-59eef5ecf786",
   "metadata": {},
   "outputs": [
    {
     "data": {
      "image/png": "[encoded data removed]",
      "text/plain": [
       "<Figure size 1000x600 with 1 Axes>"
      ]
     },
     "metadata": {},
     "output_type": "display_data"
    }
   ],
   "source": [
    "import matplotlib.pyplot as plt\n",
    "import seaborn as sns\n",
    "\n",
    "# Calculate tweet lengths\n",
    "df['original_length'] = df['text'].apply(len)\n",
    "df['cleaned_length'] = df['cleaned_text'].apply(len)\n",
    "df['processed_length'] = df['processed_text'].apply(len)\n",
    "\n",
    "# Create a DataFrame to hold the lengths\n",
    "length_df = pd.DataFrame({\n",
    "    'Original': df['original_length'],\n",
    "    'Cleaned': df['cleaned_length'],\n",
    "    'Processed': df['processed_length']\n",
    "})\n",
    "\n",
    "# Plot the box plot\n",
    "plt.figure(figsize=(10, 6))\n",
    "sns.boxplot(data=length_df, palette=\"Set2\")\n",
    "plt.title('Comparison of Tweet Lengths Before and After Cleaning and Processing')\n",
    "plt.ylabel('Tweet Length')\n",
    "plt.show()\n"
   ]
  },
  {
   "cell_type": "code",
   "execution_count": 29,
   "id": "a4ceef04-d520-42c8-bc08-044641d47f19",
   "metadata": {},
   "outputs": [
    {
     "data": {
      "image/png": "[encoded data removed]",
      "text/plain": [
       "<Figure size 1000x600 with 1 Axes>"
      ]
     },
     "metadata": {},
     "output_type": "display_data"
    }
   ],
   "source": [
    "# Plot the histogram\n",
    "plt.figure(figsize=(10, 6))\n",
    "plt.hist(df['original_length'], bins=50, alpha=0.6, label='Original Tweets', color='blue')\n",
    "plt.hist(df['cleaned_length'], bins=50, alpha=0.6, label='Cleaned Tweets', color='green')\n",
    "plt.hist(df['processed_length'], bins=50, alpha=0.6, label='Processed Tweets', color='red')\n",
    "\n",
    "# Set plot labels\n",
    "plt.xlabel('Tweet Length')\n",
    "plt.ylabel('Frequency')\n",
    "plt.title('Histogram of Tweet Lengths Before and After Cleaning and Processing')\n",
    "plt.legend()\n",
    "plt.show()\n"
   ]
  },
  {
   "cell_type": "markdown",
   "id": "883afc76-48c9-44fb-836b-5b0163fdeb83",
   "metadata": {},
   "source": [
    "plt.ylabel('Frequency'):\n",
    "\n",
    "This sets the label for the y-axis, which shows the frequency (or count) of tweets that fall into each length bin. For example, it shows how many tweets have a length of 50 characters, 100 characters, and so on."
   ]
  },
  {
   "cell_type": "markdown",
   "id": "167b6d5a-39ae-4d37-8514-d224f1df89b9",
   "metadata": {},
   "source": [
    "# Calcul de la Distance de Jaccard"
   ]
  },
  {
   "cell_type": "markdown",
   "id": "9b7b9fba-629e-46d2-9dc6-bcc4fd1fca95",
   "metadata": {},
   "source": [
    "#### mesure la similarité entre deux ensembles"
   ]
  },
  {
   "cell_type": "markdown",
   "id": "e322ab1a-9597-4d79-9541-6ed4db5aa527",
   "metadata": {},
   "source": [
    "d(tweet1​,tweet2​)=∣tweet1​∩tweet2​∣/∣tweet1​∪tweet2​∣​\n",
    "\n",
    "Cela peut être appliqué en transformant les tweets en ensembles de mots, puis en calculant l’intersection et l’union de ces ensembles."
   ]
  },
  {
   "cell_type": "markdown",
   "id": "eba852a0-3bbc-450f-a2c3-7cbdcf7e9f05",
   "metadata": {},
   "source": [
    "### Étape 1: Préparation des données (TF-IDF Vectorization)"
   ]
  },
  {
   "cell_type": "code",
   "execution_count": 35,
   "id": "0c73938d-f10b-42c6-abb2-8d32119c6074",
   "metadata": {},
   "outputs": [
    {
     "name": "stdout",
     "output_type": "stream",
     "text": [
      "(1600000, 111383)\n"
     ]
    }
   ],
   "source": [
    "from sklearn.feature_extraction.text import TfidfVectorizer\n",
    "\n",
    "# Utilisation de TF-IDF pour transformer les tweets en vecteurs\n",
    "vectorizer = TfidfVectorizer(stop_words='english', max_df=0.95, min_df=2)\n",
    "X = vectorizer.fit_transform(df['processed_text'])\n",
    "\n",
    "# Afficher les dimensions de la matrice TF-IDF (n_samples, n_features)\n",
    "print(X.shape)  # (Nombre de tweets, Nombre de caractéristiques)\n"
   ]
  },
  {
   "cell_type": "markdown",
   "id": "3f6e2ae4-afbf-459c-bceb-d1884b6fe7dd",
   "metadata": {},
   "source": [
    "### Étape 2: Appliquer K-Means Clustering"
   ]
  },
  {
   "cell_type": "code",
   "execution_count": 37,
   "id": "6c2b98ea-e509-4572-bb74-63ef2c7415b0",
   "metadata": {},
   "outputs": [
    {
     "data": {
      "image/png": "[encoded data removed]",
      "text/plain": [
       "<Figure size 1000x600 with 1 Axes>"
      ]
     },
     "metadata": {},
     "output_type": "display_data"
    },
    {
     "name": "stdout",
     "output_type": "stream",
     "text": [
      "                                      processed_text  kmeans_cluster\n",
      "0  awww that bummer shoulda got david carr third day               0\n",
      "1  upset cant updat facebook text might cri resul...               4\n",
      "2    dive mani time ball manag save 50 rest go bound               0\n",
      "3                    whole bodi feel itchi like fire               3\n",
      "4                              behav im mad cant see               2\n"
     ]
    }
   ],
   "source": [
    "from sklearn.cluster import KMeans\n",
    "import matplotlib.pyplot as plt\n",
    "\n",
    "# Essayer plusieurs valeurs de k (de 2 à 30)\n",
    "k_range = range(2, 31)\n",
    "inertia = []  # Liste pour stocker l'inertie pour chaque k\n",
    "\n",
    "# Essai de K-Means pour différentes valeurs de k\n",
    "for k in k_range:\n",
    "    kmeans = KMeans(n_clusters=k, random_state=42)\n",
    "    kmeans.fit(X)\n",
    "    inertia.append(kmeans.inertia_)  # Inertie = somme des distances au centre des clusters\n",
    "\n",
    "# Tracer l'inertie en fonction de k pour choisir le bon k\n",
    "plt.figure(figsize=(10, 6))\n",
    "plt.plot(k_range, inertia, marker='o', color='blue')\n",
    "plt.title('Inertie de K-Means en fonction de k')\n",
    "plt.xlabel('Nombre de clusters (k)')\n",
    "plt.ylabel('Inertie')\n",
    "plt.grid(True)\n",
    "plt.show()\n",
    "\n",
    "# Choisir un k (par exemple k=5) et appliquer K-Means\n",
    "kmeans = KMeans(n_clusters=5, random_state=42)\n",
    "df['kmeans_cluster'] = kmeans.fit_predict(X)\n",
    "\n",
    "# Afficher les 5 premiers tweets avec leur cluster\n",
    "print(df[['processed_text', 'kmeans_cluster']].head())\n"
   ]
  },
  {
   "cell_type": "markdown",
   "id": "41af2ce1-0bf0-4729-9e7c-c3df301ca049",
   "metadata": {},
   "source": [
    "#### Explication :\n",
    "TF-IDF transforme chaque tweet en un vecteur numérique, où chaque dimension représente l'importance d'un mot dans le tweet.\n",
    "K-Means regroupe les tweets en k clusters. On essaie plusieurs valeurs de k pour choisir celle qui minimise l'inertie (distance intra-cluster).\n",
    "Une fois que vous avez choisi k, vous appliquez K-Means et attribuez chaque tweet à un cluster"
   ]
  },
  {
   "cell_type": "markdown",
   "id": "653a9217-504a-4c6b-b0d4-613e9741a3a4",
   "metadata": {},
   "source": [
    "### Étape 3: Appliquer Fuzzy C-Means Clustering\n"
   ]
  },
  {
   "cell_type": "code",
   "execution_count": 40,
   "id": "b48ffd88-85cf-4cec-b9ed-5bf7793b5446",
   "metadata": {},
   "outputs": [
    {
     "name": "stdout",
     "output_type": "stream",
     "text": [
      "Requirement already satisfied: fuzzy-c-means in c:\\users\\client\\anaconda3\\lib\\site-packages (1.7.2)\n",
      "Requirement already satisfied: joblib<2.0.0,>=1.2.0 in c:\\users\\client\\anaconda3\\lib\\site-packages (from fuzzy-c-means) (1.4.2)\n",
      "Requirement already satisfied: numpy<2.0.0,>=1.21.1 in c:\\users\\client\\anaconda3\\lib\\site-packages (from fuzzy-c-means) (1.26.4)\n",
      "Requirement already satisfied: pydantic<3.0.0,>=2.6.4 in c:\\users\\client\\anaconda3\\lib\\site-packages (from fuzzy-c-means) (2.10.0)\n",
      "Requirement already satisfied: tabulate<0.9.0,>=0.8.9 in c:\\users\\client\\anaconda3\\lib\\site-packages (from fuzzy-c-means) (0.8.10)\n",
      "Requirement already satisfied: tqdm<5.0.0,>=4.64.1 in c:\\users\\client\\anaconda3\\lib\\site-packages (from fuzzy-c-means) (4.66.4)\n",
      "Requirement already satisfied: typer<0.10.0,>=0.9.0 in c:\\users\\client\\anaconda3\\lib\\site-packages (from fuzzy-c-means) (0.9.4)\n",
      "Requirement already satisfied: annotated-types>=0.6.0 in c:\\users\\client\\anaconda3\\lib\\site-packages (from pydantic<3.0.0,>=2.6.4->fuzzy-c-means) (0.6.0)\n",
      "Requirement already satisfied: pydantic-core==2.27.0 in c:\\users\\client\\anaconda3\\lib\\site-packages (from pydantic<3.0.0,>=2.6.4->fuzzy-c-means) (2.27.0)\n",
      "Requirement already satisfied: typing-extensions>=4.12.2 in c:\\users\\client\\anaconda3\\lib\\site-packages (from pydantic<3.0.0,>=2.6.4->fuzzy-c-means) (4.12.2)\n",
      "Requirement already satisfied: colorama in c:\\users\\client\\anaconda3\\lib\\site-packages (from tqdm<5.0.0,>=4.64.1->fuzzy-c-means) (0.4.6)\n",
      "Requirement already satisfied: click<9.0.0,>=7.1.1 in c:\\users\\client\\anaconda3\\lib\\site-packages (from typer<0.10.0,>=0.9.0->fuzzy-c-means) (8.1.7)\n",
      "Note: you may need to restart the kernel to use updated packages.\n"
     ]
    }
   ],
   "source": [
    "pip install fuzzy-c-means\n"
   ]
  },
  {
   "cell_type": "code",
   "execution_count": 41,
   "id": "269d3328-4143-4fe0-b6ba-6590e780b6de",
   "metadata": {},
   "outputs": [],
   "source": [
    "# Réduire la taille du dataset pour éviter les MemoryError\n",
    "df_sample = df.sample(n=10000, random_state=42)  # Prenez 10 000 tweets aléatoires\n",
    "\n"
   ]
  },
  {
   "cell_type": "code",
   "execution_count": 42,
   "id": "d6a86b4e-9246-4368-a8d7-5578851fcc47",
   "metadata": {},
   "outputs": [
    {
     "name": "stdout",
     "output_type": "stream",
     "text": [
      "Requirement already satisfied: pyclustering in c:\\users\\client\\anaconda3\\lib\\site-packages (0.10.1.2)\n",
      "Requirement already satisfied: scipy>=1.1.0 in c:\\users\\client\\anaconda3\\lib\\site-packages (from pyclustering) (1.13.1)\n",
      "Requirement already satisfied: matplotlib>=3.0.0 in c:\\users\\client\\anaconda3\\lib\\site-packages (from pyclustering) (3.8.4)\n",
      "Requirement already satisfied: numpy>=1.15.2 in c:\\users\\client\\anaconda3\\lib\\site-packages (from pyclustering) (1.26.4)\n",
      "Requirement already satisfied: Pillow>=5.2.0 in c:\\users\\client\\anaconda3\\lib\\site-packages (from pyclustering) (10.3.0)\n",
      "Requirement already satisfied: contourpy>=1.0.1 in c:\\users\\client\\anaconda3\\lib\\site-packages (from matplotlib>=3.0.0->pyclustering) (1.2.0)\n",
      "Requirement already satisfied: cycler>=0.10 in c:\\users\\client\\anaconda3\\lib\\site-packages (from matplotlib>=3.0.0->pyclustering) (0.11.0)\n",
      "Requirement already satisfied: fonttools>=4.22.0 in c:\\users\\client\\anaconda3\\lib\\site-packages (from matplotlib>=3.0.0->pyclustering) (4.51.0)\n",
      "Requirement already satisfied: kiwisolver>=1.3.1 in c:\\users\\client\\anaconda3\\lib\\site-packages (from matplotlib>=3.0.0->pyclustering) (1.4.4)\n",
      "Requirement already satisfied: packaging>=20.0 in c:\\users\\client\\anaconda3\\lib\\site-packages (from matplotlib>=3.0.0->pyclustering) (23.2)\n",
      "Requirement already satisfied: pyparsing>=2.3.1 in c:\\users\\client\\anaconda3\\lib\\site-packages (from matplotlib>=3.0.0->pyclustering) (3.0.9)\n",
      "Requirement already satisfied: python-dateutil>=2.7 in c:\\users\\client\\anaconda3\\lib\\site-packages (from matplotlib>=3.0.0->pyclustering) (2.9.0.post0)\n",
      "Requirement already satisfied: six>=1.5 in c:\\users\\client\\anaconda3\\lib\\site-packages (from python-dateutil>=2.7->matplotlib>=3.0.0->pyclustering) (1.16.0)\n",
      "Note: you may need to restart the kernel to use updated packages.\n"
     ]
    }
   ],
   "source": [
    "pip install pyclustering\n"
   ]
  },
  {
   "cell_type": "code",
   "execution_count": null,
   "id": "8209ad19-b755-4d59-a6a4-7cc7f90722d0",
   "metadata": {},
   "outputs": [],
   "source": [
    "from pyclustering.cluster.fcm import fcm\n",
    "from sklearn.feature_extraction.text import TfidfVectorizer\n",
    "from sklearn.decomposition import TruncatedSVD\n",
    "import numpy as np\n",
    "import matplotlib.pyplot as plt\n",
    "\n",
    "# Échantillonner les données pour éviter les problèmes de mémoire\n",
    "df_sample = df.sample(n=10000, random_state=42)  # Prenez un échantillon de 10 000 tweets\n",
    "\n",
    "# Vectorisation des tweets (TF-IDF)\n",
    "vectorizer = TfidfVectorizer(stop_words='english', max_df=0.95, min_df=2)\n",
    "X = vectorizer.fit_transform(df['processed_text'])\n",
    "\n",
    "\n",
    "# Réduction de la dimensionnalité\n",
    "svd = TruncatedSVD(n_components=100, random_state=42)\n",
    "X_dense = svd.fit_transform(X)\n",
    "\n",
    "# Fonction pour initialiser aléatoirement les centres des clusters\n",
    "def initialize_centers(data, k):\n",
    "    indices = np.random.choice(data.shape[0], k, replace=False)\n",
    "    return data[indices]\n",
    "\n",
    "# Essayer plusieurs valeurs de k pour Fuzzy C-Means (de 2 à 30)\n",
    "k_range = range(2, 31)\n",
    "fcm_inertia = []  # Liste pour stocker l'inertie pour chaque k\n",
    "\n",
    "for k in k_range:\n",
    "    initial_centers = initialize_centers(X_dense, k)  # Générer des centres initiaux\n",
    "    fcm_model = fcm(X_dense, initial_centers)  # Créer l'instance FCM avec les centres initiaux\n",
    "    fcm_model.process()  # Appliquer l'algorithme FCM\n",
    "    inertia = np.sum(fcm_model.get_membership())  # Calcul de l'inertie basée sur les affinités des points aux clusters\n",
    "    fcm_inertia.append(inertia)  # Ajouter l'inertie à la liste\n",
    "\n",
    "# Tracer l'inertie en fonction de k pour choisir le bon k\n",
    "plt.figure(figsize=(10, 6))\n",
    "plt.plot(k_range, fcm_inertia, marker='o', color='green')\n",
    "plt.title('Inertie de Fuzzy C-Means en fonction de k')\n",
    "plt.xlabel('Nombre de clusters (k)')\n",
    "plt.ylabel('Inertie (Fuzzy C-Means)')\n",
    "plt.grid(True)\n",
    "plt.show()\n",
    "\n",
    "# Choisir un k (par exemple k=5) et appliquer Fuzzy C-Means\n",
    "k_optimal = 5  # Choisissez k en fonction de l'inertie\n",
    "initial_centers = initialize_centers(X_dense, k_optimal)  # Centres initiaux pour k=5\n",
    "fcm_model = fcm(X_dense, initial_centers)\n",
    "fcm_model.process()\n",
    "\n",
    "# Récupérer les labels de clusters flous\n",
    "fcm_labels = fcm_model.get_clusters()\n",
    "\n",
    "# Ajouter les résultats à votre dataframe\n",
    "df_sample['fcm_cluster'] = -1  # Initialiser une colonne\n",
    "for cluster_id, cluster_points in enumerate(fcm_labels):\n",
    "    # Garder seulement les indices valides présents dans df_sample\n",
    "    valid_points = [point for point in cluster_points if point in df_sample.index]\n",
    "    df_sample.loc[valid_points, 'fcm_cluster'] = cluster_id\n",
    "\n",
    "# Afficher les 5 premiers tweets avec leur cluster Fuzzy C-Means\n",
    "print(df_sample[['processed_text', 'fcm_cluster']].head())\n"
   ]
  },
  {
   "cell_type": "code",
   "execution_count": 56,
   "id": "ec85d3e7-190c-43c6-9a8b-ab71a3ef4fa1",
   "metadata": {},
   "outputs": [
    {
     "data": {
      "image/png": "[encoded data removed]",
      "text/plain": [
       "<Figure size 1000x600 with 1 Axes>"
      ]
     },
     "metadata": {},
     "output_type": "display_data"
    },
    {
     "name": "stdout",
     "output_type": "stream",
     "text": [
      "                                           processed_text  fcm_cluster\n",
      "541200                                       ahhh hope ok           -1\n",
      "750                                 cool tweet app razr 2            1\n",
      "766711  know famili drama lamehey next time u hang kim...           -1\n",
      "285055  school email wont open geographi stuff revis s...           -1\n",
      "705995                               upper airway problem           -1\n"
     ]
    }
   ],
   "source": [
    "from pyclustering.cluster.fcm import fcm\n",
    "from sklearn.feature_extraction.text import TfidfVectorizer\n",
    "from sklearn.decomposition import TruncatedSVD\n",
    "import numpy as np\n",
    "import matplotlib.pyplot as plt\n",
    "from sklearn.metrics.pairwise import pairwise_distances\n",
    "\n",
    "# Échantillonner les données pour éviter les problèmes de mémoire\n",
    "df_sample = df.sample(n=10000, random_state=42)  # Prenez un échantillon de 10 000 tweets\n",
    "\n",
    "# Vectorisation des tweets (TF-IDF)\n",
    "vectorizer = TfidfVectorizer(stop_words='english', max_df=0.95, min_df=2)\n",
    "X = vectorizer.fit_transform(df_sample['processed_text'])\n",
    "\n",
    "# Réduction de la dimensionnalité\n",
    "svd = TruncatedSVD(n_components=100, random_state=42)\n",
    "X_dense = svd.fit_transform(X)\n",
    "\n",
    "# Fonction pour calculer la distance de Jaccard entre deux ensembles de mots\n",
    "def jaccard_distance(tweet1, tweet2):\n",
    "    # Convertir les tweets en ensembles de mots\n",
    "    set1 = set(tweet1.split())\n",
    "    set2 = set(tweet2.split())\n",
    "    \n",
    "    # Calcul de la distance de Jaccard\n",
    "    intersection = len(set1.intersection(set2))\n",
    "    union = len(set1.union(set2))\n",
    "    return 1 - (intersection / union) if union != 0 else 0\n",
    "\n",
    "# Calculer la matrice de distances Jaccard entre tous les tweets\n",
    "jaccard_distances = pairwise_distances(X_dense, metric='cosine')  # Utilisation de la similarité cosine comme approximation de Jaccard\n",
    "\n",
    "# Fonction pour initialiser aléatoirement les centres des clusters\n",
    "def initialize_centers(data, k):\n",
    "    indices = np.random.choice(data.shape[0], k, replace=False)\n",
    "    return data[indices]\n",
    "\n",
    "# Essayer plusieurs valeurs de k pour Fuzzy C-Means (de 2 à 30)\n",
    "k_range = range(2, 31)\n",
    "fcm_inertia = []  # Liste pour stocker l'inertie pour chaque k\n",
    "\n",
    "for k in k_range:\n",
    "    initial_centers = initialize_centers(X_dense, k)  # Générer des centres initiaux\n",
    "    fcm_model = fcm(X_dense, initial_centers, distance_metric=jaccard_distance)  # Créer l'instance FCM avec la distance de Jaccard\n",
    "    fcm_model.process()  # Appliquer l'algorithme FCM\n",
    "    inertia = np.sum(fcm_model.get_membership())  # Calcul de l'inertie basée sur les affinités des points aux clusters\n",
    "    fcm_inertia.append(inertia)  # Ajouter l'inertie à la liste\n",
    "\n",
    "# Tracer l'inertie en fonction de k pour choisir le bon k\n",
    "plt.figure(figsize=(10, 6))\n",
    "plt.plot(k_range, fcm_inertia, marker='o', color='green')\n",
    "plt.title('Inertie de Fuzzy C-Means en fonction de k')\n",
    "plt.xlabel('Nombre de clusters (k)')\n",
    "plt.ylabel('Inertie (Fuzzy C-Means)')\n",
    "plt.grid(True)\n",
    "plt.show()\n",
    "\n",
    "# Choisir un k (par exemple k=5) et appliquer Fuzzy C-Means\n",
    "k_optimal = 5  # Choisissez k en fonction de l'inertie\n",
    "initial_centers = initialize_centers(X_dense, k_optimal)  # Centres initiaux pour k=5\n",
    "fcm_model = fcm(X_dense, initial_centers, distance_metric=jaccard_distance)  # Utilisation de la distance de Jaccard\n",
    "fcm_model.process()\n",
    "\n",
    "# Récupérer les labels de clusters flous\n",
    "fcm_labels = fcm_model.get_clusters()\n",
    "\n",
    "# Ajouter les résultats à votre dataframe\n",
    "df_sample['fcm_cluster'] = -1  # Initialiser une colonne\n",
    "for cluster_id, cluster_points in enumerate(fcm_labels):\n",
    "    # Garder seulement les indices valides présents dans df_sample\n",
    "    valid_points = [point for point in cluster_points if point in df_sample.index]\n",
    "    df_sample.loc[valid_points, 'fcm_cluster'] = cluster_id\n",
    "\n",
    "# Afficher les 5 premiers tweets avec leur cluster Fuzzy C-Means\n",
    "print(df_sample[['processed_text', 'fcm_cluster']].head())\n"
   ]
  },
  {
   "cell_type": "code",
   "execution_count": 3,
   "id": "56ea63f6-9996-4f08-956f-3c59c85441df",
   "metadata": {},
   "outputs": [],
   "source": []
  },
  {
   "cell_type": "code",
   "execution_count": null,
   "id": "b56846bc",
   "metadata": {},
   "outputs": [],
   "source": []
  }
 ],
 "metadata": {
  "kernelspec": {
   "display_name": "Python 3 (ipykernel)",
   "language": "python",
   "name": "python3"
  },
  "language_info": {
   "codemirror_mode": {
    "name": "ipython",
    "version": 3
   },
   "file_extension": ".py",
   "mimetype": "text/x-python",
   "name": "python",
   "nbconvert_exporter": "python",
   "pygments_lexer": "ipython3",
   "version": "3.9.1"
  }
 },
 "nbformat": 4,
 "nbformat_minor": 5
}
